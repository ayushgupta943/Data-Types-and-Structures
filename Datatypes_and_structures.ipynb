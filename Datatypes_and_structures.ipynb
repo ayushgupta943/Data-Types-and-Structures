{
  "nbformat": 4,
  "nbformat_minor": 0,
  "metadata": {
    "colab": {
      "provenance": []
    },
    "kernelspec": {
      "name": "python3",
      "display_name": "Python 3"
    },
    "language_info": {
      "name": "python"
    }
  },
  "cells": [
    {
      "cell_type": "markdown",
      "source": [
        "# Data Types and Structures"
      ],
      "metadata": {
        "id": "RuBXAWUAaGD3"
      }
    },
    {
      "cell_type": "markdown",
      "source": [
        "1. What are data structures, and why are they important?\n",
        "   - Data structures are ways of organizing and storing data in a computer so it can be accessed and modified efficiently.\n",
        "\n",
        "  Importance:\n",
        "\n",
        "  - Help in managing large amounts of data efficiently.\n",
        "\n",
        "  - Enable fast and easy data retrieval, insertion, and deletion.\n",
        "\n",
        "  - Critical for writing efficient algorithms.\n",
        "  \n",
        "\n",
        "2.  Explain the difference between mutable and immutable data types with examples\n",
        "\n",
        " - Mutable: Can be changed after creation.\n",
        "\n",
        "    Example: list, dict, set\n",
        "\n",
        "    my_list = [1, 2, 3]\n",
        "\n",
        "    my_list[0] = 10  # Allowed\n",
        "\n",
        "    - Immutable: Cannot be changed after creation.\n",
        "\n",
        "    Example: int, str, tuple\n",
        "\n",
        "    my_str = \"hello\"\n",
        "\n",
        "    my_str[0] = 'H' #error u can get\n",
        "\n",
        "3.  What are the main differences between lists and tuples in Python?\n",
        " - Mutability:\n",
        "\n",
        "  Lists are mutable, which means their elements can be changed after creation.\n",
        "\n",
        "  Tuples are immutable, meaning once created, their elements cannot be modified.\n",
        "\n",
        "  - Syntax:\n",
        "\n",
        "  Lists are defined using square brackets [].\n",
        "\n",
        "  Tuples are defined using parentheses ().\n",
        "\n",
        "  - Performance:\n",
        "\n",
        "  Tuples have better performance than lists due to their immutability.\n",
        "\n",
        "  Lists are slightly slower because they are dynamic and mutable.\n",
        "\n",
        " - Use Cases:\n",
        "\n",
        "  Lists are used when the data can change, such as a collection of items to be updated.\n",
        "\n",
        "  Tuples are used for fixed data, such as storing coordinates, days of the week, etc.\n",
        "\n",
        "  - Methods:\n",
        "\n",
        "  Lists have more built-in methods, like append(), remove(), sort(), etc.\n",
        "\n",
        "  Tuples have only two methods: count() and index().\n",
        "\n",
        "  - Memory Usage:\n",
        "\n",
        "  Tuples use less memory than lists, making them more memory-efficient.\n",
        "\n",
        "  Lists consume more memory due to their flexibility.\n",
        "\n",
        "4. Describe how dictionaries store data.\n",
        "  - Dictionaries store data in key-value pairs.\n",
        "\n",
        "    student = {'name': 'Ayush Gupta', 'age': 22}\n",
        "  \n",
        "5.  Why might you use a set instead of a list in Python?\n",
        " - Sets store only unique elements.\n",
        "\n",
        "  - Faster lookup than lists.\n",
        "\n",
        "   - Used when duplicates must be avoided.\n",
        "\n",
        "   - my_set = {1, 2, 3, 1}  # Output: {1, 2, 3}\n",
        "\n",
        "6. What is a string in Python, and how is it different from a list?\n",
        " - A string is a sequence of Unicode characters, immutable.\n",
        "\n",
        "  - A list is a mutable sequence of any data type.\n",
        "\n",
        "    string = \"hello\"     # Immutable\n",
        "    \n",
        "    list = ['h', 'e']  # Mutable\n",
        "\n",
        "7.  How do tuples ensure data integrity in Python?\n",
        "  - Tuples are immutable, meaning once created, data can’t be changed.\n",
        "\n",
        "  - Ideal for fixed data like coordinates or dates to prevent accidental modification.\n",
        "\n",
        "8. What is a hash table, and how does it relate to dictionaries in Python?\n",
        "\n",
        "  - A hash table stores key-value pairs using a hash function to compute an index.\n",
        "\n",
        "  - Python’s dict uses hash tables to allow O(1) average time complexity for lookups.\n",
        "\n",
        "9. Can lists contain different data types in Python?\n",
        " -  Yes. Python lists can store mixed types:\n",
        "        \n",
        "    mixed = [1, \"hello\", 3.14, True]\n",
        "\n",
        "10.  Explain why strings are immutable in Python?\n",
        "\n",
        "  - For performance and security (especially in multi-threading).\n",
        "\n",
        "   - Immutable strings can be cached and shared safely.\n",
        "\n",
        "11. What advantages do dictionaries offer over lists for certain tasks?\n",
        " - Fast lookup using keys.\n",
        "\n",
        "  - Store data with descriptive keys rather than numeric indexes.\n",
        "\n",
        "  - Great for representing real-world mappings.\n",
        "\n",
        "12. Describe a scenario where using a tuple would be preferable over a list?\n",
        "\n",
        "- Use a tuple when the data is fixed and should not change.\n",
        "\n",
        "   Example:\n",
        "\n",
        "      point = (5, 10)\n",
        "\n",
        "     -  Why tuple is better here:\n",
        "\n",
        "      The position (5, 10) is a constant value.\n",
        "\n",
        "      Tuples are immutable, so no one can accidentally modify the coordinates.\n",
        "\n",
        "      It ensures data integrity.\n",
        "\n",
        "      Tuples can be used as keys in dictionaries (lists can’t).\n",
        "\n",
        "      Prefer tuple when:\n",
        "\n",
        "      You want to store fixed data (like dates, coordinates, RGB colors).\n",
        "\n",
        "      You want to use the data as a dictionary key.\n",
        "\n",
        "13.  How do sets handle duplicate values in Python?\n",
        "  \n",
        "   -  Automatically remove duplicates.\n",
        "\n",
        "      s = {1, 2, 2, 3}\n",
        "      print(s)  # {1, 2, 3}\n",
        "\n",
        "14. How does the “in” keyword work differently for lists and dictionaries?\n",
        "\n",
        "  - In lists: Checks if a value exists.\n",
        "\n",
        "   - In dictionaries: Checks if a key exists.\n",
        "\n",
        "   Example -\n",
        "\n",
        "    3 in [1, 2, 3]          # True\n",
        "\n",
        "  'name' in {'name': 'A'} # True\n",
        "\n",
        "  'A' in {'name': 'A'}    # False\n",
        "\n",
        "\n",
        "15. Can you modify the elements of a tuple? Explain why or why not?\n",
        "\n",
        "   -  No, you cannot modify the elements of a tuple in Python.\n",
        "\n",
        "   Why?\n",
        "\n",
        "    Tuples are immutable, meaning once a tuple is created, its elements cannot be changed, added, or removed.\n",
        "\n",
        "    my_tuple = (1, 2, 3)\n",
        "\n",
        "    my_tuple[0] = 10  #  This will give u an erorr\n",
        "\n",
        "\n",
        "    Reason:\n",
        "\n",
        "    Immutability makes tuples:\n",
        "\n",
        "    Safe for fixed data\n",
        "\n",
        "    Hashable, so they can be used as dictionary keys\n",
        "\n",
        "    More memory-efficient and faster to access than lists\n",
        "\n",
        "16.  What is a nested dictionary, and give an example of its use case?\n",
        "\n",
        " - A nested dictionary is a dictionary where values are also dictionaries.\n",
        "\n",
        "  students = {\n",
        "\n",
        "    \"101\": {\"name\": \"Ayush\", \"age\": 20, \"grade\": \"A\"},\n",
        "\n",
        "    \"102\": {\"name\": \"Rohit\", \"age\": 22, \"grade\": \"B\"}\n",
        "\n",
        "  }\n",
        "\n",
        "  - Use Case:--\n",
        "Managing structured data, like storing multiple students' details, each with their own set of attributes.\n",
        "\n",
        "  - print(students[\"101\"][\"name\"])  # Output: Ayush\n",
        "\n",
        "\n",
        "17.  Describe the time complexity of accessing elements in a dictionary?\n",
        "\n",
        " - Accessing elements in a dictionary is O(1) (constant time) on average.\n",
        "\n",
        "      It’s fast because dictionaries use hashing to find values\n",
        "\n",
        "18. In what situations are lists preferred over dictionaries?\n",
        "\n",
        "  -  Lists are preferred over dictionaries when:\n",
        "\n",
        "    Order matters – You want to keep elements in a specific sequence.\n",
        "\n",
        "    Index-based access – You need to access items by position (e.g., list[0]).\n",
        "\n",
        "    No unique keys needed – Just storing values without key-value pairs.\n",
        "\n",
        "    Simple collections – Like a list of names, numbers, or items.\n",
        "\n",
        "\n",
        "\n",
        "    fruits = [\"apple\", \"banana\", \"orange\"]  # List is best here\n",
        "\n",
        "\n",
        "19. Why are dictionaries considered unordered, and how does that affect data retrieval?\n",
        "\n",
        "  - In older Python versions (<3.7), dictionaries did not preserve insertion order, so items could appear in any sequence.\n",
        "\n",
        "      From Python 3.7+, they preserve insertion order, but they are still used as key-value stores, not for ordering.\n",
        "\n",
        "\n",
        " - You can’t access by position like in a list (dict[0] is invalid).\n",
        "     \n",
        "     You must know the key to get the value: dict[\"name\"].\n",
        "\n",
        "\n",
        "     person = {\"name\": \"Ayush\", \"age\": 25}\n",
        "     print(person[\"name\"])  # You access by key, not position\n",
        "\n",
        "20.  Explain the difference between a list and a dictionary in terms of data retrieval\n",
        "\n",
        " - List uses index-based retrieval (list[0]),\n",
        " - while dictionary uses key-based retrieval (dict[\"key\"]).\n",
        "\n",
        "\n",
        "\n",
        "\n",
        "    # List example (index-based)\n",
        "    fruits = [\"apple\", \"banana\", \"orange\"]\n",
        "    print(fruits[1])  # Output: banana\n",
        "\n",
        "    # Dictionary example (key-based)\n",
        "    person = {\"name\": \"Ayush\", \"age\": 25}\n",
        "    print(person[\"name\"])  # Output: Ayush"
      ],
      "metadata": {
        "id": "DiO8a0C6aNaw"
      }
    },
    {
      "cell_type": "code",
      "source": [
        "#1. Write a code to create a string with your name and print it.\n",
        "\n",
        "my_name=\"ayush\"\n",
        "print(\"my name is\",my_name)"
      ],
      "metadata": {
        "colab": {
          "base_uri": "https://localhost:8080/"
        },
        "id": "Lqs7rvTgyUY1",
        "outputId": "7f9d3bb0-1aea-413a-e134-24140e12cd06"
      },
      "execution_count": null,
      "outputs": [
        {
          "output_type": "stream",
          "name": "stdout",
          "text": [
            "my name is ayush\n"
          ]
        }
      ]
    },
    {
      "cell_type": "code",
      "source": [
        "#2. Write a code to find the length of the string \"Hello World\"\n",
        "text=\"hello world\"\n",
        "length=len(text)\n",
        "print(\"length of the string is:\" ,length)"
      ],
      "metadata": {
        "colab": {
          "base_uri": "https://localhost:8080/"
        },
        "id": "sLl2R5_yzSm-",
        "outputId": "fd409cda-5563-4f2c-d8fd-40ad013200e9"
      },
      "execution_count": null,
      "outputs": [
        {
          "output_type": "stream",
          "name": "stdout",
          "text": [
            "length of the string is: 11\n"
          ]
        }
      ]
    },
    {
      "cell_type": "code",
      "source": [
        "#3. Write a code to slice the first 3 characters from the string \"Python Programming\".\n",
        "text=\"python programming\"\n",
        "sliced=text[:3]\n",
        "print(\"first 3 character:\",sliced)"
      ],
      "metadata": {
        "colab": {
          "base_uri": "https://localhost:8080/"
        },
        "id": "g9sPVTmbzxIh",
        "outputId": "cb32b21f-c97f-4d83-f89c-09f829e63683"
      },
      "execution_count": null,
      "outputs": [
        {
          "output_type": "stream",
          "name": "stdout",
          "text": [
            "first 3 character: pyt\n"
          ]
        }
      ]
    },
    {
      "cell_type": "code",
      "source": [
        "#4. Write a code to convert the string \"hello\" to uppercaseP\n",
        "text=\"hello\"\n",
        "upper_text=text.upper()\n",
        "print(\"uppercase:\",upper_text)"
      ],
      "metadata": {
        "colab": {
          "base_uri": "https://localhost:8080/"
        },
        "id": "gxHHrbiM0XNn",
        "outputId": "36dd7103-0fc8-4ed6-f762-4fb3f743a8e1"
      },
      "execution_count": null,
      "outputs": [
        {
          "output_type": "stream",
          "name": "stdout",
          "text": [
            "uppercase: HELLO\n"
          ]
        }
      ]
    },
    {
      "cell_type": "code",
      "source": [
        "#5. Write a code to replace the word \"apple\" with \"orange\" in the string \"I like apple\".\n",
        "text=\"i like apple\"\n",
        "new_text = text.replace(\"apple\", \"orange\")\n",
        "print(\"Updated string:\", new_text)\n"
      ],
      "metadata": {
        "colab": {
          "base_uri": "https://localhost:8080/"
        },
        "id": "Dvpk4AT90vUm",
        "outputId": "d11cfee3-fb3a-40d8-ca84-2f23de87173d"
      },
      "execution_count": null,
      "outputs": [
        {
          "output_type": "stream",
          "name": "stdout",
          "text": [
            "Updated string: i like orange\n"
          ]
        }
      ]
    },
    {
      "cell_type": "code",
      "source": [
        "#6. Write a code to create a list with numbers 1 to 5 and print it\n",
        "num=[1,2,3,4,5]\n",
        "print(\"List of numbers:\", num)\n"
      ],
      "metadata": {
        "colab": {
          "base_uri": "https://localhost:8080/"
        },
        "id": "D1oQby2_1M_P",
        "outputId": "748c3a53-b116-4396-9ab4-a840f10051f5"
      },
      "execution_count": null,
      "outputs": [
        {
          "output_type": "stream",
          "name": "stdout",
          "text": [
            "List of numbers: [1, 2, 3, 4, 5]\n"
          ]
        }
      ]
    },
    {
      "cell_type": "code",
      "source": [
        "#7.Write a code to append the number 10 to the list [1, 2, 3, 4].\n",
        "number=[1,2,3,4]\n",
        "number.append(10)\n",
        "print(\"updated list\",number)\n"
      ],
      "metadata": {
        "colab": {
          "base_uri": "https://localhost:8080/"
        },
        "id": "g_Tl1C0V1mSk",
        "outputId": "466609c3-b5b4-4008-f867-12690490b117"
      },
      "execution_count": null,
      "outputs": [
        {
          "output_type": "stream",
          "name": "stdout",
          "text": [
            "updated list [1, 2, 3, 4, 10]\n"
          ]
        }
      ]
    },
    {
      "cell_type": "code",
      "source": [
        "#8 Write a code to remove the number 3 from the list [1, 2, 3, 4, 5]\n",
        "\n",
        "numbers = [1, 2, 3, 4, 5]\n",
        "\n",
        "numbers.remove(3)\n",
        "\n",
        "print(\"Updated list:\", numbers)\n"
      ],
      "metadata": {
        "colab": {
          "base_uri": "https://localhost:8080/"
        },
        "id": "9J9DM0bj2CyO",
        "outputId": "f9a7ac7f-3871-4f3e-8068-765ef7c803ee"
      },
      "execution_count": null,
      "outputs": [
        {
          "output_type": "stream",
          "name": "stdout",
          "text": [
            "Updated list: [1, 2, 4, 5]\n"
          ]
        }
      ]
    },
    {
      "cell_type": "code",
      "source": [
        "#9 Write a code to access the second element in the list ['a', 'b', 'c', 'd']\n",
        "# Define the list\n",
        "letters = ['a', 'b', 'c', 'd']\n",
        "print(letters[1])\n"
      ],
      "metadata": {
        "colab": {
          "base_uri": "https://localhost:8080/"
        },
        "id": "mfyGCkDf2YY_",
        "outputId": "f1d73fe6-d6c0-4e2f-a6ad-c0442bd87b37"
      },
      "execution_count": null,
      "outputs": [
        {
          "output_type": "stream",
          "name": "stdout",
          "text": [
            "b\n"
          ]
        }
      ]
    },
    {
      "cell_type": "code",
      "source": [
        "#10 Write a code to reverse the list [10, 20, 30, 40, 50].\n",
        "\n",
        "numbers = [10, 20, 30, 40, 50]\n",
        "\n",
        "numbers.reverse()\n",
        "\n",
        "print(\"Reversed list:\", numbers)\n"
      ],
      "metadata": {
        "colab": {
          "base_uri": "https://localhost:8080/"
        },
        "id": "74XIOKu_2xhd",
        "outputId": "742c67a2-7a67-4505-d379-d58993bd80c4"
      },
      "execution_count": null,
      "outputs": [
        {
          "output_type": "stream",
          "name": "stdout",
          "text": [
            "Reversed list: [50, 40, 30, 20, 10]\n"
          ]
        }
      ]
    },
    {
      "cell_type": "code",
      "source": [
        "#11 Write a code to create a tuple with the elements 100, 200, 300 and print it.\n",
        "\n",
        "numbers = (100, 200, 300)\n",
        "\n",
        "print(\"Tuple:\", numbers)\n"
      ],
      "metadata": {
        "id": "rPd9yYjh3A0g"
      },
      "execution_count": null,
      "outputs": []
    },
    {
      "cell_type": "code",
      "source": [
        "#12 Write a code to access the second-to-last element of the tuple ('red', 'green', 'blue', 'yellow')\n",
        "colors = ('red', 'green', 'blue', 'yellow')\n",
        "second_last = colors[-2]\n",
        "print(\"Second-to-last element:\", second_last)\n",
        "\n"
      ],
      "metadata": {
        "colab": {
          "base_uri": "https://localhost:8080/"
        },
        "id": "VXEYUxGB3cze",
        "outputId": "685245f1-7bd5-4642-8c50-1a152ec0891d"
      },
      "execution_count": null,
      "outputs": [
        {
          "output_type": "stream",
          "name": "stdout",
          "text": [
            "Second-to-last element: blue\n"
          ]
        }
      ]
    },
    {
      "cell_type": "code",
      "source": [
        "#13 Write a code to find the minimum number in the tuple (10, 20, 5, 15)\n",
        "\n",
        "numbers = (10, 20, 5, 15)\n",
        "\n",
        "\n",
        "min_number = min(numbers)\n",
        "\n",
        "\n",
        "print(\"Minimum number:\", min_number)\n"
      ],
      "metadata": {
        "colab": {
          "base_uri": "https://localhost:8080/"
        },
        "id": "mep9tIJf4TGW",
        "outputId": "bee32d98-79ae-40b0-87a9-b92c57d89128"
      },
      "execution_count": null,
      "outputs": [
        {
          "output_type": "stream",
          "name": "stdout",
          "text": [
            "Minimum number: 5\n"
          ]
        }
      ]
    },
    {
      "cell_type": "code",
      "source": [
        "#14 Write a code to find the index of the element \"cat\" in the tuple ('dog', 'cat', 'rabbit').\n",
        "animals = ('dog', 'cat', 'rabbit')\n",
        "\n",
        "index = animals.index('cat')\n",
        "\n",
        "\n",
        "print(\"Index of 'cat':\", index)\n"
      ],
      "metadata": {
        "colab": {
          "base_uri": "https://localhost:8080/"
        },
        "id": "R18vAlpJ4kHM",
        "outputId": "012c9c4b-f957-4f84-8423-d97ce981ad7b"
      },
      "execution_count": null,
      "outputs": [
        {
          "output_type": "stream",
          "name": "stdout",
          "text": [
            "Index of 'cat': 1\n"
          ]
        }
      ]
    },
    {
      "cell_type": "code",
      "source": [
        "#15 Write a code to create a tuple containing three different fruits and check if \"kiwi\" is in it.\n",
        "\n",
        "fruits = ('apple', 'banana', 'orange')\n",
        "\n",
        "if 'kiwi' in fruits:\n",
        "    print(\"Kiwi is in the tuple.\")\n",
        "else:\n",
        "    print(\"Kiwi is not in the tuple.\")\n"
      ],
      "metadata": {
        "colab": {
          "base_uri": "https://localhost:8080/"
        },
        "id": "6KFyuWf54x42",
        "outputId": "91ff2e18-2d70-4ef7-95d5-f9ab04e7a4a1"
      },
      "execution_count": null,
      "outputs": [
        {
          "output_type": "stream",
          "name": "stdout",
          "text": [
            "Kiwi is not in the tuple.\n"
          ]
        }
      ]
    },
    {
      "cell_type": "code",
      "source": [
        "#16 Write a code to create a set with the elements 'a', 'b', 'c' and print it\n",
        "\n",
        "letters = {'a', 'b', 'c'}\n",
        "\n",
        "print(\"Set:\", letters)\n",
        "\n"
      ],
      "metadata": {
        "colab": {
          "base_uri": "https://localhost:8080/"
        },
        "id": "SwL0pR7_5C2G",
        "outputId": "6b5ca5bc-cfbb-47c3-ab8b-05329b96a571"
      },
      "execution_count": null,
      "outputs": [
        {
          "output_type": "stream",
          "name": "stdout",
          "text": [
            "Set: {'a', 'b', 'c'}\n"
          ]
        }
      ]
    },
    {
      "cell_type": "code",
      "source": [
        "#17 Write a code to clear all elements from the set {1, 2, 3, 4, 5}.\n",
        "numbers = {1, 2, 3, 4, 5}\n",
        "\n",
        "numbers.clear()\n",
        "\n",
        "\n",
        "print( numbers)\n"
      ],
      "metadata": {
        "colab": {
          "base_uri": "https://localhost:8080/"
        },
        "id": "PCyHUvTz5bom",
        "outputId": "6a551d57-02e9-4311-c4a5-d50e4637af13"
      },
      "execution_count": null,
      "outputs": [
        {
          "output_type": "stream",
          "name": "stdout",
          "text": [
            "set()\n"
          ]
        }
      ]
    },
    {
      "cell_type": "code",
      "source": [
        "#18  Write a code to remove the element 4 from the set {1, 2, 3, 4}\n",
        "\n",
        "numbers = {1, 2, 3, 4}\n",
        "\n",
        "numbers.remove(4)\n",
        "\n",
        "print(\"Set after removing 4:\", numbers)\n"
      ],
      "metadata": {
        "colab": {
          "base_uri": "https://localhost:8080/"
        },
        "id": "KZgKeUda51iA",
        "outputId": "ca4cfca4-9ba6-4155-c12f-ead6ac474b82"
      },
      "execution_count": null,
      "outputs": [
        {
          "output_type": "stream",
          "name": "stdout",
          "text": [
            "Set after removing 4: {1, 2, 3}\n"
          ]
        }
      ]
    },
    {
      "cell_type": "code",
      "source": [
        "#19  Write a code to find the union of two sets {1, 2, 3} and {3, 4, 5}\n",
        "set1 = {1, 2, 3}\n",
        "set2 = {3, 4, 5}\n",
        "\n",
        "union_set = set1.union(set2)\n",
        "\n",
        "print(\"Union of the sets:\", union_set)\n"
      ],
      "metadata": {
        "colab": {
          "base_uri": "https://localhost:8080/"
        },
        "id": "gY1WgH266KAL",
        "outputId": "74f5f736-7b36-4f5f-a2e9-560831e568f8"
      },
      "execution_count": null,
      "outputs": [
        {
          "output_type": "stream",
          "name": "stdout",
          "text": [
            "Union of the sets: {1, 2, 3, 4, 5}\n"
          ]
        }
      ]
    },
    {
      "cell_type": "code",
      "source": [
        "#20 Write a code to find the intersection of two sets {1, 2, 3} and {2, 3, 4}.\n",
        "\n",
        "set1 = {1, 2, 3}\n",
        "set2 = {2, 3, 4}\n",
        "\n",
        "\n",
        "intersection_set = set1.intersection(set2)\n",
        "\n",
        "\n",
        "print(\"Intersection of the sets:\", intersection_set)\n"
      ],
      "metadata": {
        "colab": {
          "base_uri": "https://localhost:8080/"
        },
        "id": "AkNeAfnm6cZu",
        "outputId": "015548cc-77e5-4a90-b31b-d20c759b46d4"
      },
      "execution_count": null,
      "outputs": [
        {
          "output_type": "stream",
          "name": "stdout",
          "text": [
            "Intersection of the sets: {2, 3}\n"
          ]
        }
      ]
    },
    {
      "cell_type": "code",
      "source": [
        "#21 Write a code to create a dictionary with the keys \"name\", \"age\", and \"city\", and print it\n",
        "person = {\n",
        "    \"name\": \"Ayush\",\n",
        "    \"age\": 22,\n",
        "    \"city\": \"Delhi\"\n",
        "}\n",
        "\n",
        "print(\"Dictionary:\", person)\n"
      ],
      "metadata": {
        "colab": {
          "base_uri": "https://localhost:8080/"
        },
        "id": "GPab5uWK6xo2",
        "outputId": "5b041a17-f35c-496b-b724-000473cb4cf1"
      },
      "execution_count": null,
      "outputs": [
        {
          "output_type": "stream",
          "name": "stdout",
          "text": [
            "Dictionary: {'name': 'Ayush', 'age': 22, 'city': 'Delhi'}\n"
          ]
        }
      ]
    },
    {
      "cell_type": "code",
      "source": [
        "#22  Write a code to add a new key-value pair \"country\": \"USA\" to the dictionary {'name': 'John', 'age': 25}\n",
        "\n",
        "person = {'name': 'John', 'age': 25}\n",
        "\n",
        "\n",
        "person['country'] = 'USA'\n",
        "\n",
        "print(\"Updated dictionary:\", person)\n"
      ],
      "metadata": {
        "colab": {
          "base_uri": "https://localhost:8080/"
        },
        "id": "XX1Btk_f7AT1",
        "outputId": "b8da3a2e-d529-4a96-b052-48b2776f6334"
      },
      "execution_count": null,
      "outputs": [
        {
          "output_type": "stream",
          "name": "stdout",
          "text": [
            "Updated dictionary: {'name': 'John', 'age': 25, 'country': 'USA'}\n"
          ]
        }
      ]
    },
    {
      "cell_type": "code",
      "source": [
        "#23 Write a code to access the value associated with the key \"name\" in the dictionary {'name': 'Alice', 'age': 30}\n",
        "\n",
        "person = {'name': 'Alice', 'age': 30}\n",
        "\n",
        "\n",
        "name_value = person['name']\n",
        "\n",
        "print(\"Name:\", name_value)\n",
        "\n"
      ],
      "metadata": {
        "colab": {
          "base_uri": "https://localhost:8080/"
        },
        "id": "-4EpJPY67U5C",
        "outputId": "cdce6b4a-31e5-43b7-b742-47f64ad8d53c"
      },
      "execution_count": null,
      "outputs": [
        {
          "output_type": "stream",
          "name": "stdout",
          "text": [
            "Name: Alice\n"
          ]
        }
      ]
    },
    {
      "cell_type": "code",
      "source": [
        "#24  Write a code to remove the key \"age\" from the dictionary {'name': 'Bob', 'age': 22, 'city': 'New York'}.\n",
        "\n",
        "person = {'name': 'Bob', 'age': 22, 'city': 'New York'}\n",
        "\n",
        "\n",
        "person.pop('age')\n",
        "\n",
        "\n",
        "print(\"Updated dictionary:\", person)\n",
        "\n"
      ],
      "metadata": {
        "colab": {
          "base_uri": "https://localhost:8080/"
        },
        "id": "WW4wgCxR7pLJ",
        "outputId": "10af3803-4e85-4258-bfba-f3916ede698f"
      },
      "execution_count": null,
      "outputs": [
        {
          "output_type": "stream",
          "name": "stdout",
          "text": [
            "Updated dictionary: {'name': 'Bob', 'city': 'New York'}\n"
          ]
        }
      ]
    },
    {
      "cell_type": "code",
      "source": [
        "#25 Write a code to check if the key \"city\" exists in the dictionary {'name': 'Alice', 'city': 'Paris'}.\n",
        "\n",
        "person = {'name': 'Alice', 'city': 'Paris'}\n",
        "\n",
        "\n",
        "if 'city' in person:\n",
        "    print(\"Key 'city' exists in the dictionary.\")\n",
        "else:\n",
        "    print(\"Key 'city' does not exist.\")\n",
        "\n"
      ],
      "metadata": {
        "colab": {
          "base_uri": "https://localhost:8080/"
        },
        "id": "xNrBKhbv8Afa",
        "outputId": "908dbb7a-f695-4679-ae1a-e20eb7e96f91"
      },
      "execution_count": null,
      "outputs": [
        {
          "output_type": "stream",
          "name": "stdout",
          "text": [
            "Key 'city' exists in the dictionary.\n"
          ]
        }
      ]
    },
    {
      "cell_type": "code",
      "source": [
        "#26 Write a code to create a list, a tuple, and a dictionary, and print them all.\n",
        "\n",
        "\n",
        "my_list = [1, 2, 3, 4, 5]\n",
        "\n",
        "\n",
        "my_tuple = ('apple', 'banana', 'cherry')\n",
        "\n",
        "\n",
        "my_dict = {'name': 'John', 'age': 28, 'city': 'London'}\n",
        "\n",
        "\n",
        "print(\"List:\", my_list)\n",
        "print(\"Tuple:\", my_tuple)\n",
        "print(\"Dictionary:\", my_dict)\n"
      ],
      "metadata": {
        "colab": {
          "base_uri": "https://localhost:8080/"
        },
        "id": "LVbElpWZ8Nd-",
        "outputId": "e9114412-5eba-49ea-92e3-87eb7cdbd415"
      },
      "execution_count": null,
      "outputs": [
        {
          "output_type": "stream",
          "name": "stdout",
          "text": [
            "List: [1, 2, 3, 4, 5]\n",
            "Tuple: ('apple', 'banana', 'cherry')\n",
            "Dictionary: {'name': 'John', 'age': 28, 'city': 'London'}\n"
          ]
        }
      ]
    },
    {
      "cell_type": "code",
      "source": [
        "#27 Write a code to create a list of 5 random numbers between 1 and 100, sort it in ascending order, and print the result.(replaced)\n",
        "import random\n",
        "\n",
        "\n",
        "random_numbers = random.sample(range(1, 101), 5)\n",
        "\n",
        "random_numbers.sort()\n",
        "\n",
        "\n",
        "print(\"Sorted random numbers:\", random_numbers)\n"
      ],
      "metadata": {
        "colab": {
          "base_uri": "https://localhost:8080/"
        },
        "id": "N38RzUXj8hGQ",
        "outputId": "1c3278cd-2462-4aaf-a7b4-1c436cf7edc8"
      },
      "execution_count": null,
      "outputs": [
        {
          "output_type": "stream",
          "name": "stdout",
          "text": [
            "Sorted random numbers: [13, 21, 31, 40, 63]\n"
          ]
        }
      ]
    },
    {
      "cell_type": "code",
      "source": [
        "#28 Write a code to create a list with strings and print the element at the third index\n",
        "\n",
        "fruits = [\"apple\", \"banana\", \"cherry\", \"mango\", \"orange\"]\n",
        "\n",
        "\n",
        "print(\"Element at index 3:\", fruits[3])\n"
      ],
      "metadata": {
        "colab": {
          "base_uri": "https://localhost:8080/"
        },
        "id": "OX-Jurre81nO",
        "outputId": "7a643b41-d4cb-4a53-9374-af3dac940c91"
      },
      "execution_count": null,
      "outputs": [
        {
          "output_type": "stream",
          "name": "stdout",
          "text": [
            "Element at index 3: mango\n"
          ]
        }
      ]
    },
    {
      "cell_type": "code",
      "source": [
        "#29 Write a code to combine two dictionaries into one and print the result.\n",
        "\n",
        "dict1 = {'a': 1, 'b': 2}\n",
        "dict2 = {'c': 3, 'd': 4}\n",
        "\n",
        "\n",
        "combined_dict = {**dict1, **dict2}\n",
        "\n",
        "\n",
        "print(\"Combined dictionary:\", combined_dict)\n"
      ],
      "metadata": {
        "colab": {
          "base_uri": "https://localhost:8080/"
        },
        "id": "QthVDL2L9GV9",
        "outputId": "953fba14-df3b-4820-8dd1-4d9e9dd7be3d"
      },
      "execution_count": null,
      "outputs": [
        {
          "output_type": "stream",
          "name": "stdout",
          "text": [
            "Combined dictionary: {'a': 1, 'b': 2, 'c': 3, 'd': 4}\n"
          ]
        }
      ]
    },
    {
      "cell_type": "code",
      "source": [
        "#30 Write a code to convert a list of strings into a set.\n",
        "\n",
        "string_list = [\"apple\", \"banana\", \"cherry\", \"apple\"]\n",
        "\n",
        "\n",
        "string_set = set(string_list)\n",
        "\n",
        "\n",
        "print(\"Set:\", string_set)\n"
      ],
      "metadata": {
        "colab": {
          "base_uri": "https://localhost:8080/"
        },
        "id": "Y7kJPXGc9WwQ",
        "outputId": "898d96c4-ade1-44c8-86d6-af51bf71def4"
      },
      "execution_count": null,
      "outputs": [
        {
          "output_type": "stream",
          "name": "stdout",
          "text": [
            "Set: {'apple', 'cherry', 'banana'}\n"
          ]
        }
      ]
    }
  ]
}